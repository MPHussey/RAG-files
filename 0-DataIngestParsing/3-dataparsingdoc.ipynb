{
 "cells": [
  {
   "cell_type": "markdown",
   "id": "32e193ba",
   "metadata": {},
   "source": [
    "### Word document processing"
   ]
  },
  {
   "cell_type": "code",
   "execution_count": 1,
   "id": "11bb6c4c",
   "metadata": {},
   "outputs": [],
   "source": [
    "from langchain_community.document_loaders import Docx2txtLoader,UnstructuredWordDocumentLoader"
   ]
  },
  {
   "cell_type": "code",
   "execution_count": 3,
   "id": "eea64ef2",
   "metadata": {},
   "outputs": [
    {
     "name": "stdout",
     "output_type": "stream",
     "text": [
      "1️⃣ Using Docx2txtLoader\n",
      "Loaded 1 document(s)\n",
      "Content preview: Project Proposal: RAG Implementation\n",
      "\n",
      "Executive Summary\n",
      "\n",
      "This proposal outlines the implementation of a Retrieval-Augmented Generation system for our organization.\n",
      "\n",
      "Objectives\n",
      "\n",
      "Key objectives include:...\n",
      "Metadata: {'source': 'data/word_files/proposal.docx'}\n"
     ]
    }
   ],
   "source": [
    "## Method 1 : Using DocxtxtLoader\n",
    "print(\"1️⃣ Using Docx2txtLoader\")\n",
    "try:\n",
    "    docx_loader=Docx2txtLoader(\"data/word_files/proposal.docx\")\n",
    "    docs=docx_loader.load()\n",
    "    print(f\"Loaded {len(docs)} document(s)\")\n",
    "    print(f\"Content preview: {docs[0].page_content[:200]}...\")\n",
    "    print(f\"Metadata: {docs[0].metadata}\")\n",
    "\n",
    "except Exception as e:\n",
    "    print(f\"error: {e}\")"
   ]
  },
  {
   "cell_type": "code",
   "execution_count": null,
   "id": "28449f9a",
   "metadata": {},
   "outputs": [
    {
     "ename": "SyntaxError",
     "evalue": "invalid syntax (4293432604.py, line 9)",
     "output_type": "error",
     "traceback": [
      "  \u001b[36mCell\u001b[39m\u001b[36m \u001b[39m\u001b[32mIn[6]\u001b[39m\u001b[32m, line 9\u001b[39m\n\u001b[31m    \u001b[39m\u001b[31mfor i, doc\u001b[39m\n              ^\n\u001b[31mSyntaxError\u001b[39m\u001b[31m:\u001b[39m invalid syntax\n"
     ]
    }
   ],
   "source": [
    "## Method 1 : Using DocxtxtLoader\n",
    "print(\"\\n 2️⃣ Using UnstructuredWordDocumentLoader\")\n",
    "\n",
    "try:\n",
    "    unstructured_loader=UnstructuredWordDocumentLoader(\"data/word_files/proposal.docx\",mode=\"elements\")\n",
    "    unstructured_docs=unstructured_loader.load()\n",
    "\n",
    "    print(f\"Loaded {len(unstructured_docs)} elements\")\n",
    "    for i, doc in enumerate(unstructured_docs[:3]):\n",
    "        print(f\"\\nElement {i+1}:\")\n",
    "        print(f\"Type: {doc.metadata.get('category','unknown')}\")\n",
    "        print(f\"Content: {doc.page_content[:100]}...\")\n",
    "except Exception as e:\n",
    "    print(f\"Error: {e}\")"
   ]
  }
 ],
 "metadata": {
  "kernelspec": {
   "display_name": ".venv",
   "language": "python",
   "name": "python3"
  },
  "language_info": {
   "codemirror_mode": {
    "name": "ipython",
    "version": 3
   },
   "file_extension": ".py",
   "mimetype": "text/x-python",
   "name": "python",
   "nbconvert_exporter": "python",
   "pygments_lexer": "ipython3",
   "version": "3.12.0"
  }
 },
 "nbformat": 4,
 "nbformat_minor": 5
}
